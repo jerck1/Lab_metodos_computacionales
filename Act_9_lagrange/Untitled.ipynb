{
 "cells": [
  {
   "cell_type": "markdown",
   "metadata": {},
   "source": [
    "# Interpolación de Lagrange"
   ]
  },
  {
   "cell_type": "code",
   "execution_count": 4,
   "metadata": {},
   "outputs": [],
   "source": [
    "import numpy as np"
   ]
  },
  {
   "cell_type": "code",
   "execution_count": 7,
   "metadata": {},
   "outputs": [],
   "source": [
    "#(1,-1.2);(2,2.3);(3,3.5)\n",
    "X=np.array([1,2,3])\n",
    "Y=np.array([-1.2,2.3,3.5])"
   ]
  },
  {
   "cell_type": "markdown",
   "metadata": {},
   "source": [
    "## Formula para los coeficientes de interpolación:\n",
    "x: Punto a interpolar ; n: número de puntos-1\n",
    "$$ L_{i}(x)=\\Pi_{j=0,j\\neq i}^{n}\\frac{(x-x_{j})}{(x_{i}-x_{j})} $$\n",
    "$$ p(x)=\\sum_{i=0}^{n}y_{i}*L_{i}(x)$$ "
   ]
  },
  {
   "cell_type": "code",
   "execution_count": null,
   "metadata": {},
   "outputs": [],
   "source": [
    "def L0(x,X,Y):\n",
    "    return (x-X[1])*(x-X[2])/((X[0]-X[1])*(X[0]-X[2]))\n",
    "def L1(x,X,Y):\n",
    "    return (x-X[0])*(x-X[2])\n",
    "()\n",
    "    "
   ]
  }
 ],
 "metadata": {
  "kernelspec": {
   "display_name": "Python 3",
   "language": "python",
   "name": "python3"
  },
  "language_info": {
   "codemirror_mode": {
    "name": "ipython",
    "version": 3
   },
   "file_extension": ".py",
   "mimetype": "text/x-python",
   "name": "python",
   "nbconvert_exporter": "python",
   "pygments_lexer": "ipython3",
   "version": "3.8.3"
  }
 },
 "nbformat": 4,
 "nbformat_minor": 4
}
